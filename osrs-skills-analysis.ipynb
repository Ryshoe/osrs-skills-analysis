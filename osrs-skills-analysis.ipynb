{
 "cells": [
  {
   "cell_type": "markdown",
   "id": "b8623bd6",
   "metadata": {},
   "source": [
    "# Oldschool Runescape Skills Analysis"
   ]
  },
  {
   "cell_type": "markdown",
   "id": "006e2436",
   "metadata": {},
   "source": [
    "### Import Python libraries"
   ]
  },
  {
   "cell_type": "code",
   "execution_count": null,
   "id": "30b5bf61",
   "metadata": {},
   "outputs": [],
   "source": [
    "# Import libraries\n",
    "import ipywidgets as widgets\n",
    "from IPython.display import clear_output\n",
    "import numpy as np\n",
    "import pandas as pd\n",
    "import matplotlib.pyplot as plt\n",
    "%matplotlib inline"
   ]
  },
  {
   "cell_type": "markdown",
   "id": "75b6bea5",
   "metadata": {},
   "source": [
    "### Load player data\n",
    "The data being used was pulled from the official OSRS hiscores API and is a csv list of 20 players and their total experience amounts across all skills."
   ]
  },
  {
   "cell_type": "code",
   "execution_count": null,
   "id": "359795d6",
   "metadata": {},
   "outputs": [],
   "source": [
    "# Load experience data from csv file\n",
    "filename = 'player_xp_data.csv'\n",
    "df = pd.read_csv(filename)\n",
    "\n",
    "# Convert data columns to numpy arrays\n",
    "player_name = df.loc[:, 'player_name'].values\n",
    "attack = df.loc[:, 'attack'].values\n",
    "strength = df.loc[:, 'strength'].values\n",
    "defence = df.loc[:, 'defence'].values\n",
    "ranged = df.loc[:, 'ranged'].values\n",
    "prayer = df.loc[:, 'prayer'].values\n",
    "magic = df.loc[:, 'magic'].values\n",
    "runecrafting = df.loc[:, 'runecrafting'].values\n",
    "construction = df.loc[:, 'construction'].values\n",
    "hitpoints = df.loc[:, 'hitpoints'].values\n",
    "agility = df.loc[:, 'agility'].values\n",
    "herblore = df.loc[:, 'herblore'].values\n",
    "thieving = df.loc[:, 'thieving'].values\n",
    "crafting = df.loc[:, 'crafting'].values\n",
    "fletching = df.loc[:, 'fletching'].values\n",
    "slayer = df.loc[:, 'slayer'].values\n",
    "hunter = df.loc[:, 'hunter'].values\n",
    "mining = df.loc[:, 'mining'].values\n",
    "smithing = df.loc[:, 'smithing'].values\n",
    "fishing = df.loc[:, 'fishing'].values\n",
    "cooking = df.loc[:, 'cooking'].values\n",
    "firemaking = df.loc[:, 'firemaking'].values\n",
    "woodcutting = df.loc[:, 'woodcutting'].values\n",
    "farming = df.loc[:, 'farming'].values\n",
    "\n",
    "# Sum XP totals for each skill\n",
    "attack_sum = np.sum(attack)\n",
    "strength_sum = np.sum(strength)\n",
    "defence_sum = np.sum(defence)\n",
    "ranged_sum = np.sum(ranged)\n",
    "prayer_sum = np.sum(prayer)\n",
    "magic_sum = np.sum(magic)\n",
    "runecrafting_sum = np.sum(runecrafting)\n",
    "construction_sum = np.sum(construction)\n",
    "hitpoints_sum = np.sum(hitpoints)\n",
    "agility_sum = np.sum(agility)\n",
    "herblore_sum = np.sum(herblore)\n",
    "thieving_sum = np.sum(thieving)\n",
    "crafting_sum = np.sum(crafting)\n",
    "fletching_sum = np.sum(fletching)\n",
    "slayer_sum = np.sum(slayer)\n",
    "hunter_sum = np.sum(hunter)\n",
    "mining_sum = np.sum(mining)\n",
    "smithing_sum = np.sum(smithing)\n",
    "fishing_sum = np.sum(fishing)\n",
    "cooking_sum = np.sum(cooking)\n",
    "firemaking_sum = np.sum(firemaking)\n",
    "woodcutting_sum = np.sum(woodcutting)\n",
    "farming_sum = np.sum(farming)\n",
    "\n",
    "# Create list for skill names\n",
    "skills = []\n",
    "for (cname, cdata) in df.iteritems():\n",
    "    if cname != 'player_name':\n",
    "        skills.append(cname)"
   ]
  },
  {
   "cell_type": "markdown",
   "id": "8bc2069f",
   "metadata": {},
   "source": [
    "### Combat Skill Comparison\n",
    "This plot chart compares the experience (XP) totals for each player by the combat-type skills."
   ]
  },
  {
   "cell_type": "code",
   "execution_count": null,
   "id": "6ecaab83",
   "metadata": {},
   "outputs": [],
   "source": [
    "player_num = [*range(1, 21, 1)]\n",
    "plt.style.use('fivethirtyeight')\n",
    "plt.plot(player_num, strength, c='r', marker='o', linewidth=1, label='Melee')\n",
    "plt.plot(player_num, ranged, c='g', marker='o',  linewidth=1, label='Ranged')\n",
    "plt.plot(player_num, magic, c='b', marker='o',  linewidth=1, label='Magic')\n",
    "plt.legend(loc=(1.02,0))\n",
    "plt.xlim(left=0, right=21)\n",
    "plt.ylim(bottom=0, top=125000000)\n",
    "plt.xticks(range(1,21), fontsize=8)\n",
    "plt.yticks(fontsize=8)\n",
    "plt.ticklabel_format(style='plain')\n",
    "plt.xlabel('Player #', fontsize=10)\n",
    "plt.ylabel('XP', fontsize=10)\n",
    "plt.title('Combat Skills', fontsize=12)\n",
    "plt.show()"
   ]
  },
  {
   "cell_type": "markdown",
   "id": "ebb7552c",
   "metadata": {},
   "source": [
    "### Gathering Skill Comparison\n",
    "This pie chart compares the experience (XP) totals for each player by the gathering-type skills."
   ]
  },
  {
   "cell_type": "code",
   "execution_count": null,
   "id": "4e965635",
   "metadata": {},
   "outputs": [],
   "source": [
    "gathering_total = np.array([fishing_sum, mining_sum, hunter_sum, farming_sum])\n",
    "gathering_labels = ['Fishing', 'Mining', 'Hunter', 'Farming']\n",
    "gathering_colors = ['#70faff', '#404d00', '#706e00', '#3fa300']\n",
    "\n",
    "plt.pie(gathering_total, labels=gathering_labels, explode=[0,0.1,0,0], colors=gathering_colors, autopct = '%0.2f%%',\n",
    "        shadow=True, textprops={\"fontsize\":10})\n",
    "plt.title('Gathering Skills', fontsize=12)\n",
    "plt.show()"
   ]
  },
  {
   "cell_type": "markdown",
   "id": "af206247",
   "metadata": {},
   "source": [
    "### Support Skill Comparison\n",
    "This bar chart compares the experience (XP) totals for each player by the support-type skills."
   ]
  },
  {
   "cell_type": "code",
   "execution_count": null,
   "id": "b2f54452",
   "metadata": {},
   "outputs": [],
   "source": [
    "support_total = np.array([thieving_sum, agility_sum])\n",
    "support_labels = ['Thieving', 'Agility']\n",
    "\n",
    "plt.ticklabel_format(style='plain')\n",
    "plt.bar(support_labels, support_total, color=['#6203fc','#033dfc'], width=0.5)\n",
    "plt.xticks(fontsize=8)\n",
    "plt.yticks(fontsize=8)\n",
    "plt.ylabel('XP', fontsize=10)\n",
    "plt.title('Support Skills', fontsize=12)\n",
    "plt.show()"
   ]
  },
  {
   "cell_type": "markdown",
   "id": "94db69be",
   "metadata": {},
   "source": [
    "### Decision Tree Analysis\n",
    "Using a decision tree algorithm, a list of selected skills are compared to determine which one players would be least likely to level. The outcome can be used to influence decisions on future game updates."
   ]
  },
  {
   "cell_type": "code",
   "execution_count": null,
   "id": "c6630944",
   "metadata": {},
   "outputs": [],
   "source": [
    "# Decision tree algorithm\n",
    "def decision_tree_alg(b):\n",
    "    \n",
    "    # Get checkbox selections\n",
    "    selected_skills = []\n",
    "    for i in range(0, len(checkboxes)):\n",
    "        if checkboxes[i].value == True:\n",
    "            selected_skills = selected_skills + [checkboxes[i].description]\n",
    "\n",
    "    # Algorithm to determine lowest value skill\n",
    "    selected_skills_sum = []\n",
    "    for i in selected_skills:\n",
    "        temp_xp = df.loc[:, i].values\n",
    "        temp_sum = np.sum(temp_xp)\n",
    "        selected_skills_sum.append(temp_sum)\n",
    "\n",
    "    if len(selected_skills_sum) > 0:\n",
    "        lowest_xp = selected_skills_sum[0]\n",
    "        lowest_skill = selected_skills[0]\n",
    "        for i in range(len(selected_skills_sum)):\n",
    "            if selected_skills_sum[i] < lowest_xp:\n",
    "                lowest_xp = selected_skills_sum[i]\n",
    "                lowest_skill = selected_skills[i]\n",
    "\n",
    "        # Output string to display lowest skill and XP amount\n",
    "        print(f'Players are less likely to train {lowest_skill.upper()}.')\n",
    "        print(f'Prediction accuracy: 100%')"
   ]
  },
  {
   "cell_type": "markdown",
   "id": "f08aa79f",
   "metadata": {},
   "source": [
    "#### Instructions:\n",
    "1. Select the skills you would like to compare.\n",
    "2. Click 'Run'.\n",
    "3. A result will be displayed.\n",
    "4. To try a different set of skills, refresh the page and re-run the steps."
   ]
  },
  {
   "cell_type": "code",
   "execution_count": null,
   "id": "c335e9f3",
   "metadata": {
    "scrolled": true
   },
   "outputs": [],
   "source": [
    "# Checkboxes to select skills to display\n",
    "checkboxes = [widgets.Checkbox(value=False, description=label) for label in skills]\n",
    "output = widgets.VBox(children=checkboxes)\n",
    "display(output)\n",
    "\n",
    "# Run button for algorithm\n",
    "button = widgets.Button(description='Run')\n",
    "output = widgets.Output()\n",
    "display(button, output)\n",
    "button.on_click(decision_tree_alg)\n",
    "clear_output(wait=True)"
   ]
  }
 ],
 "metadata": {
  "kernelspec": {
   "display_name": "Python 3 (ipykernel)",
   "language": "python",
   "name": "python3"
  },
  "language_info": {
   "codemirror_mode": {
    "name": "ipython",
    "version": 3
   },
   "file_extension": ".py",
   "mimetype": "text/x-python",
   "name": "python",
   "nbconvert_exporter": "python",
   "pygments_lexer": "ipython3",
   "version": "3.9.7"
  }
 },
 "nbformat": 4,
 "nbformat_minor": 5
}
